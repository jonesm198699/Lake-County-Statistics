{
 "cells": [
  {
   "cell_type": "markdown",
   "id": "10a984be",
   "metadata": {},
   "source": [
    "\n",
    "\n",
    "Summary\n",
    "Lake County, IL Birth Rates.\n",
    "\n",
    "Births rates across Lake County, Illinois by ZIP Code. Explanation of field attributes:\n",
    "\n",
    "LBW - Low birth weight is defined as a birth where the baby weighs less than 2,500 grams. This is a percent.\n",
    "\n",
    "Preterm - Preterm birth is defined as a birth that occur before 37 weeks of pregnancy. This is a percent.\n",
    "\n",
    "Teen Birth – Teen births are defined as women aged 15 to 19 years who give birth. This is a rate. \n",
    "\n",
    "Birth Rate – Birth rate is defined as the number of live births per 1,000 populations.\n",
    "\n",
    "1st Trimester of Care – 1st Trimester of care refers to the doctor’s visits and care provided during the first 13 weeks of pregnancy. This is a percent.\n",
    "\n"
   ]
  }
 ],
 "metadata": {
  "kernelspec": {
   "display_name": "PythonData",
   "language": "python",
   "name": "pythondata"
  },
  "language_info": {
   "codemirror_mode": {
    "name": "ipython",
    "version": 3
   },
   "file_extension": ".py",
   "mimetype": "text/x-python",
   "name": "python",
   "nbconvert_exporter": "python",
   "pygments_lexer": "ipython3",
   "version": "3.9.13"
  }
 },
 "nbformat": 4,
 "nbformat_minor": 5
}
