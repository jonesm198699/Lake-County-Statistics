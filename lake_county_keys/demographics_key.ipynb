{
 "cells": [
  {
   "cell_type": "markdown",
   "id": "16fde6f0",
   "metadata": {},
   "source": [
    "Summary\n",
    "Lake County, Illinois Demographic Data. Explanation of field attributes:\n",
    "\n",
    "Total Population – The entire population of Lake County.\n",
    "\n",
    "White – Individuals who are of Caucasian race. This is a percent.\n",
    "\n",
    "African American – Individuals who are of African American race. This is a percent.\n",
    "\n",
    "Asian – Individuals who are of Asian race. This is a percent.\n",
    "\n",
    "Hispanic – Individuals who are of Hispanic ethnicity. This is a percent. \n",
    "\n",
    "Does not Speak English- Individuals who speak a language other than English in their household. This is a percent.\n",
    "\n",
    "Under 5 years of age – Individuals who are under 5 years of age. This is a percent.\n",
    "\n",
    "Under 18 years of age – Individuals who are under 18 years of age. This is a percent.\n",
    "\n",
    "18-64 years of age – Individuals who are between 18 and 64 years of age. This is a percent.\n",
    "\n",
    "65 years of age and older – Individuals who are 65 years old or older. This is a percent.\n",
    "\n",
    "Male – Individuals who are male in gender. This is a percent.\n",
    "\n",
    "Female – Individuals who are female in gender. This is a percent.\n",
    "\n",
    "High School Degree – Individuals who have obtained a high school degree.  This is a percent.\n",
    "\n",
    "Associate Degree – Individuals who have obtained an associate degree. This is a percent.\n",
    "\n",
    "Bachelor’s Degree or Higher – Individuals who have obtained a bachelor’s degree or higher. This is a percent.\n",
    "\n",
    "Utilizes Food Stamps – Households receiving food stamps/ part of SNAP (Supplemental Nutrition Assistance Program). This is a percent. \n",
    "\n",
    "Median Household Income - A median household income refers to the income level earned by a given household where half of the homes in the area earn more and half earn less. This is a dollar amount.\n",
    "\n",
    "No High School – Individuals who have not obtained a high school degree. This is a percent.\n",
    "\n",
    "Poverty – Poverty refers to families and people whose income in the past 12 months is below the poverty level. This is a percent."
   ]
  }
 ],
 "metadata": {
  "kernelspec": {
   "display_name": "PythonData",
   "language": "python",
   "name": "pythondata"
  },
  "language_info": {
   "codemirror_mode": {
    "name": "ipython",
    "version": 3
   },
   "file_extension": ".py",
   "mimetype": "text/x-python",
   "name": "python",
   "nbconvert_exporter": "python",
   "pygments_lexer": "ipython3",
   "version": "3.9.13"
  }
 },
 "nbformat": 4,
 "nbformat_minor": 5
}
