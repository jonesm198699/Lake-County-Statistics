{
 "cells": [
  {
   "cell_type": "markdown",
   "id": "59bf59ba",
   "metadata": {},
   "source": [
    "\n",
    "\n",
    "Summary\n",
    "Obesity percentages for Lake County, Illinois. Explanation of field attributes:\n",
    "\n",
    "Pct_Obese – The percent of people in the zip code who are considered obese, defined as having a BMI greater than or equal to 30.\n",
    "\n",
    "ObsOrOvrwt –The percent of people in the zip code who are considered overweight (defined as having a BMI greater than or equal to 25 but less than 30) or obese (defined as having a BMI greater than or equal to 30)"
   ]
  }
 ],
 "metadata": {
  "kernelspec": {
   "display_name": "PythonData",
   "language": "python",
   "name": "pythondata"
  },
  "language_info": {
   "codemirror_mode": {
    "name": "ipython",
    "version": 3
   },
   "file_extension": ".py",
   "mimetype": "text/x-python",
   "name": "python",
   "nbconvert_exporter": "python",
   "pygments_lexer": "ipython3",
   "version": "3.9.13"
  }
 },
 "nbformat": 4,
 "nbformat_minor": 5
}
