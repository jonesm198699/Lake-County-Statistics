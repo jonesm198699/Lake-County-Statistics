{
 "cells": [
  {
   "cell_type": "markdown",
   "id": "3759f7dd",
   "metadata": {},
   "source": [
    "\n",
    "Summary\n",
    "Cancer Rates for Lake County Illinois. Explanation of field attributes:\n",
    "\n",
    "\n",
    "Colorectal Cancer - Cancer that develops in the colon (the longest part of the large intestine) and/or the rectum (the last several inches of the large intestine). This is a rate per 100,000.\n",
    "\n",
    "Lung Cancer – Cancer that forms in tissues of the lung, usually in the cells lining air passages. This is a rate per 100,000.\n",
    "\n",
    "Breast Cancer – Cancer that forms in tissues of the breast. This is a rate per 100,000.       \n",
    "\n",
    "Prostate Cancer – Cancer that forms in tissues of the prostate. This is a rate per 100,000.\n",
    "\n",
    "Urinary System Cancer – Cancer that forms in the organs of the body that produce and discharge urine. These include the kidneys, ureters, bladder, and urethra. This is a rate per 100,000.\n",
    "\n",
    "All Cancer – All cancers including, but not limited to: colorectal cancer, lung cancer, breast cancer, prostate cancer, and cancer of the urinary system. This is a rate per 100,000.\n"
   ]
  }
 ],
 "metadata": {
  "kernelspec": {
   "display_name": "PythonData",
   "language": "python",
   "name": "pythondata"
  },
  "language_info": {
   "codemirror_mode": {
    "name": "ipython",
    "version": 3
   },
   "file_extension": ".py",
   "mimetype": "text/x-python",
   "name": "python",
   "nbconvert_exporter": "python",
   "pygments_lexer": "ipython3",
   "version": "3.9.13"
  }
 },
 "nbformat": 4,
 "nbformat_minor": 5
}
