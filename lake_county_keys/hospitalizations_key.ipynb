{
 "cells": [
  {
   "cell_type": "markdown",
   "id": "5bb1c880",
   "metadata": {},
   "source": [
    "\n",
    "\n",
    "Summary\n",
    "Hospitalization Discharge Rates in Lake County, Illinois. Explanation of field attributes:\n",
    "\n",
    "\n",
    "Anxiety Disorder - Anxiety disorders are characterized by excessive fear or stress that is difficult to control and negatively and substantially impacts daily functioning. This is a rate per 100,000.\n",
    "\n",
    "Mood Disorder – Mood disorders are characterized by the elevation or lowering of a person's mood, such as depression or bipolar disorder. This is a rate per 100,000.\n",
    "\n",
    "Alcohol Rehabilitation – Alcohol rehabilitation is a term for the medical and/or psychotherapeutic treatment for dependency on alcohol. This is a rate per 100,000.\n",
    "\n",
    "Diabetes –  Diabetes is a chronic disease in which blood sugar (glucose) levels are above normal. This is a rate per 100,000.\n",
    "\n",
    "Hypertension – Hypertension is a chronic disease in which blood pressure (the force of the blood flowing blood vessels) is consistently high. This is a rate per 100,000.\n",
    "\n",
    "Asthma - Asthma is a condition in which airways narrow, swell, and produce extra mucus leading to difficulty in breathing. This is a rate per 100,000. \n",
    "\n",
    "Senior Falls Emergency Room Visit – Senior falls refers to individuals who are 65 years or older who have a fall and injure themselves. This is a rate per 100,000.\n",
    "\n",
    "Hospital Discharges – Hospital discharge is defined as the release of a patient who has stayed at least one night in hospital. This is a rate per 100,000.\n",
    "\n",
    "Mental Health Emergency Room Visit – Mental health conditions/ or mental illnesses refer to disorders generally characterized by dysregulation of mood, thought, and/or behavior. This is a rate per 100,000. \n",
    "\n",
    "Total Mental Health – Mental health conditions/ or mental illnesses refer to disorders generally characterized by dysregulation of mood, thought, and/or behavior. This is a rate per 100,000.\n",
    "\n",
    "Total Ambulatory Care Sensitive Conditions – Ambulatory Care Sensitive Conditions (ACSCs) are defined as conditions where effective community care and case management can help prevent the need for hospital admission. This is a rate per 100,000."
   ]
  }
 ],
 "metadata": {
  "kernelspec": {
   "display_name": "PythonData",
   "language": "python",
   "name": "pythondata"
  },
  "language_info": {
   "codemirror_mode": {
    "name": "ipython",
    "version": 3
   },
   "file_extension": ".py",
   "mimetype": "text/x-python",
   "name": "python",
   "nbconvert_exporter": "python",
   "pygments_lexer": "ipython3",
   "version": "3.9.13"
  }
 },
 "nbformat": 4,
 "nbformat_minor": 5
}
