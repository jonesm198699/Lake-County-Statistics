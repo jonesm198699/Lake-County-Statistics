{
 "cells": [
  {
   "cell_type": "code",
   "execution_count": null,
   "id": "4376ac90",
   "metadata": {},
   "outputs": [],
   "source": [
    "import matplotlib.pyplot as plt\n",
    "import pandas as pd\n",
    "import numpy as np\n",
    "import scipy.stats as st\n",
    "from scipy.stats import linregress\n",
    "\n",
    "# Study data files\n",
    "demographic_data = \"resources/Demographics.csv\"\n",
    "birth_data = \"resources/Birth_Statistics.csv\"\n",
    "cancer_data = \"resources/Cancer_Rates.csv\"\n",
    "hospital_data = \"resources/Hospitalization_Discharge_Rates.csv\"\n",
    "health_data = \"resources/LakeCounty_Health.csv\"\n",
    "mortality_data = \"resources/Mortality_Rates.csv\"\n",
    "obesity_data = \"resources/Obesity_Percentages.csv\"\n",
    "\n",
    "\n",
    "# Read the mouse data and the study results\n",
    "county_demographic_data = pd.read_csv(demographic_data)\n",
    "county_birth_data = pd.read_csv(birth_data)\n",
    "county_cancer_data = pd.read_csv(cancer_data)\n",
    "county_hospital_data = pd.read_csv(hospital_data)\n",
    "county_mortality_data = pd.read_csv(mortality_data)\n",
    "county_obesity_data = pd.read_csv(obesity_data)\n",
    "\n",
    "#demographics\n",
    "county_demographic_data.head()\n"
   ]
  },
  {
   "cell_type": "code",
   "execution_count": null,
   "id": "9f2e92e5",
   "metadata": {},
   "outputs": [],
   "source": [
    "county_birth_data.head()"
   ]
  },
  {
   "cell_type": "code",
   "execution_count": null,
   "id": "8c6b0dec",
   "metadata": {},
   "outputs": [],
   "source": [
    "zip_code_df=pd.merge(county_demographic_data, county_birth_data, on= [\"ZIP\", \"OBJECTID\", \"SHAPE_Length\", \"SHAPE_Area\"] )\n",
    "zip_code_df.head()"
   ]
  },
  {
   "cell_type": "code",
   "execution_count": null,
   "id": "d33c3a9f",
   "metadata": {},
   "outputs": [],
   "source": [
    "df = zip_code_df.set_index(\"ZIP\")\n",
    "df.head()"
   ]
  },
  {
   "cell_type": "code",
   "execution_count": null,
   "id": "4609a796",
   "metadata": {},
   "outputs": [],
   "source": [
    "df.columns"
   ]
  },
  {
   "cell_type": "code",
   "execution_count": null,
   "id": "f801d768",
   "metadata": {
    "scrolled": true
   },
   "outputs": [],
   "source": [
    "#del df [\"OBJECTID\"]\n",
    "#del df [\"SHAPE_Length\"]\n",
    "#del df [\"SHAPE_Area\"]\n",
    "df.drop ([\"OBJECTID\", \"SHAPE_Length\", \"SHAPE_Area\"], axis=1, inplace=True)\n",
    "df.head()"
   ]
  },
  {
   "cell_type": "code",
   "execution_count": null,
   "id": "05942286",
   "metadata": {},
   "outputs": [],
   "source": [
    "df.columns"
   ]
  },
  {
   "cell_type": "code",
   "execution_count": null,
   "id": "9a2e972b",
   "metadata": {
    "scrolled": true
   },
   "outputs": [],
   "source": [
    "df.rename(columns = {'Total_Pop':'Total Population', 'White__':'White(%)',\n",
    "                              'African_Am':'African American(%)', 'Asian__':'Asian(%)', 'Hispanic_o':\"Hispanic(%)\", 'Under_5yea':\"Under 5 years old(%)\", \"Under_18ye\":\"Under 18 years old(%)\",'No_English':'Does not Speak English(%)', 'F18to64year': \"18 to 64 years old(%)\",'F65years_an':'65 years and older(%)', 'Male_':'Male(%)', 'Female_':'Female(%)', 'High_Schoo':'High School(%)', 'Associate_':'Associates Degree(%)', 'Bachelor_D':'Bachelors Degree(%)', 'Food_Stamp':'Utilizes Food Stamps(%)', 'Med_Income':'Median Household Income', 'No_HS':'No High School(%)', 'LBW':'Low Birth Weight', 'Preterm':'Preterm Birth', 'TeenBirth':'Teen Birth','Birth_Rate': 'Birth Rate', 'F1stTriCare':\"1st Trimester of Care\" }, inplace = True)\n",
    "print(df.columns)"
   ]
  },
  {
   "cell_type": "code",
   "execution_count": null,
   "id": "04f897bf",
   "metadata": {},
   "outputs": [],
   "source": [
    " df.head()"
   ]
  },
  {
   "cell_type": "markdown",
   "id": "9a5f2c1b",
   "metadata": {},
   "source": [
    "**Median Household Income vs Poverty**"
   ]
  },
  {
   "cell_type": "code",
   "execution_count": null,
   "id": "2a1416c4",
   "metadata": {},
   "outputs": [],
   "source": [
    "x_values = list(df[\"Median Household Income\"])\n",
    "y_values = list(df[\"Poverty\"])\n",
    "n = list(df.index)\n",
    "print(n)\n",
    "(slope, intercept, rvalue, pvalue, stderr) = linregress(x_values, y_values)\n",
    "regress_values = df[\"Median Household Income\"] * slope + intercept\n",
    "\n",
    "line_eq = \"y = \"+ str(round(slope,2)) + \"x + \" + str(round(intercept, 2))\n",
    "\n",
    "fig, ax = plt.subplots(figsize=(20, 10))\n",
    "ax.scatter(x_values,y_values)\n",
    "for i, txt in enumerate(n):\n",
    "    ax.annotate(txt, (x_values[i], y_values[i]), fontsize=15)\n",
    "\n",
    "plt.plot(x_values, regress_values,\"r-\")\n",
    "plt.annotate(line_eq,(6,10),fontsize=15,color=\"red\")\n",
    "\n",
    "plt.xlabel('Median Household Income')\n",
    "plt.ylabel('Poverty')\n",
    "plt.title(\"Lake County: Median Household Income vs Poverty\")\n",
    "\n",
    "print(f\"R squared: {rvalue**2}\")\n",
    "\n",
    "plt.show()"
   ]
  },
  {
   "cell_type": "markdown",
   "id": "2f1af779",
   "metadata": {},
   "source": [
    "**Median Household Income vs Race**"
   ]
  },
  {
   "cell_type": "code",
   "execution_count": null,
   "id": "703ac908",
   "metadata": {},
   "outputs": [],
   "source": [
    "x_values = list(df[\"Median Household Income\"])\n",
    "y_values = list(df['White(%)'])\n",
    "\n",
    "n = list(df.index)\n",
    "\n",
    "(slope, intercept, rvalue, pvalue, stderr) = linregress(x_values, y_values)\n",
    "regress_values = df[\"Median Household Income\"] * slope + intercept\n",
    "\n",
    "fig, ax = plt.subplots(figsize=(20, 10))\n",
    "ax.scatter(x_values,y_values)\n",
    "for i, txt in enumerate(n):\n",
    "    ax.annotate(txt, (x_values[i], y_values[i]), fontsize=15)\n",
    "\n",
    "plt.plot(x_values, regress_values,\"r-\")\n",
    "plt.annotate(line_eq,(6,10),fontsize=15,color=\"red\")\n",
    "\n",
    "plt.xlabel('Median Household Income')\n",
    "plt.ylabel('White Residents')\n",
    "plt.title(\"Lake County: Median Household Income vs Poverty\")\n",
    "\n",
    "print(f\"R squared: {rvalue**2}\")\n",
    "\n",
    "plt.show()"
   ]
  },
  {
   "cell_type": "code",
   "execution_count": null,
   "id": "51615003",
   "metadata": {},
   "outputs": [],
   "source": [
    "x_values = list(df[\"Median Household Income\"])\n",
    "y_values = list(df['Asian(%)'])\n",
    "\n",
    "n = list(df.index)\n",
    "\n",
    "(slope, intercept, rvalue, pvalue, stderr) = linregress(x_values, y_values)\n",
    "regress_values = df[\"Median Household Income\"] * slope + intercept\n",
    "\n",
    "fig, ax = plt.subplots(figsize=(20, 10))\n",
    "ax.scatter(x_values,y_values)\n",
    "for i, txt in enumerate(n):\n",
    "    ax.annotate(txt, (x_values[i], y_values[i]), fontsize=15)\n",
    "\n",
    "plt.plot(x_values, regress_values,\"r-\")\n",
    "plt.annotate(line_eq,(6,10),fontsize=15,color=\"red\")\n",
    "\n",
    "plt.xlabel('Median Household Income')\n",
    "plt.ylabel('Asian Residents')\n",
    "plt.title(\"Lake County: Median Household Income vs Poverty\")\n",
    "\n",
    "print(f\"R squared: {rvalue**2}\")\n",
    "\n",
    "plt.show()"
   ]
  },
  {
   "cell_type": "code",
   "execution_count": null,
   "id": "2ed70b73",
   "metadata": {},
   "outputs": [],
   "source": [
    "x_values = list(df[\"Median Household Income\"])\n",
    "y_values = list(df['Hispanic(%)'])\n",
    "\n",
    "n = list(df.index)\n",
    "\n",
    "(slope, intercept, rvalue, pvalue, stderr) = linregress(x_values, y_values)\n",
    "regress_values = df[\"Median Household Income\"] * slope + intercept\n",
    "\n",
    "fig, ax = plt.subplots(figsize=(20, 10))\n",
    "ax.scatter(x_values,y_values)\n",
    "for i, txt in enumerate(n):\n",
    "    ax.annotate(txt, (x_values[i], y_values[i]), fontsize=15)\n",
    "\n",
    "plt.plot(x_values, regress_values,\"r-\")\n",
    "plt.annotate(line_eq,(6,10),fontsize=15,color=\"red\")\n",
    "\n",
    "plt.xlabel('Median Household Income')\n",
    "plt.ylabel('Hispanic Residents')\n",
    "plt.title(\"Lake County: Median Household Income vs Poverty\")\n",
    "\n",
    "print(f\"R squared: {rvalue**2}\")\n",
    "\n",
    "plt.show()"
   ]
  },
  {
   "cell_type": "code",
   "execution_count": null,
   "id": "567ad946",
   "metadata": {},
   "outputs": [],
   "source": [
    "x_values = list(df[\"Median Household Income\"])\n",
    "y_values = list(df['African American(%)'])\n",
    "\n",
    "n = list(df.index)\n",
    "\n",
    "(slope, intercept, rvalue, pvalue, stderr) = linregress(x_values, y_values)\n",
    "regress_values = df[\"Median Household Income\"] * slope + intercept\n",
    "\n",
    "fig, ax = plt.subplots(figsize=(20, 10))\n",
    "ax.scatter(x_values,y_values)\n",
    "for i, txt in enumerate(n):\n",
    "    ax.annotate(txt, (x_values[i], y_values[i]), fontsize=15)\n",
    "\n",
    "plt.plot(x_values, regress_values,\"r-\")\n",
    "plt.annotate(line_eq,(6,10),fontsize=15,color=\"red\")\n",
    "\n",
    "plt.xlabel('Median Household Income')\n",
    "plt.ylabel('African American Residents')\n",
    "plt.title(\"Lake County: Median Household Income vs Poverty\")\n",
    "\n",
    "print(f\"R squared: {rvalue**2}\")\n",
    "\n",
    "plt.show()"
   ]
  },
  {
   "cell_type": "markdown",
   "id": "c0c40d5f",
   "metadata": {},
   "source": [
    "**Median Household income vs Education**"
   ]
  },
  {
   "cell_type": "code",
   "execution_count": null,
   "id": "86dfdf6e",
   "metadata": {},
   "outputs": [],
   "source": [
    "x_values = list(df[\"Median Household Income\"])\n",
    "y_values = list(df['High School(%)'])\n",
    "\n",
    "n = list(df.index)\n",
    "\n",
    "(slope, intercept, rvalue, pvalue, stderr) = linregress(x_values, y_values)\n",
    "regress_values = df[\"Median Household Income\"] * slope + intercept\n",
    "\n",
    "fig, ax = plt.subplots(figsize=(20, 10))\n",
    "ax.scatter(x_values,y_values)\n",
    "for i, txt in enumerate(n):\n",
    "    ax.annotate(txt, (x_values[i], y_values[i]), fontsize=15)\n",
    "\n",
    "plt.plot(x_values, regress_values,\"r-\")\n",
    "plt.annotate(line_eq,(6,10),fontsize=15,color=\"red\")\n",
    "\n",
    "plt.xlabel('Median Household Income')\n",
    "plt.ylabel('Graduated High School')\n",
    "plt.title(\"Lake County: Median Household Income vs Poverty\")\n",
    "\n",
    "print(f\"R squared: {rvalue**2}\")\n",
    "\n",
    "plt.show()"
   ]
  },
  {
   "cell_type": "code",
   "execution_count": null,
   "id": "09848e57",
   "metadata": {},
   "outputs": [],
   "source": [
    "x_values = list(df[\"Median Household Income\"])\n",
    "y_values = list(df['Associates Degree(%)'])\n",
    "\n",
    "n = list(df.index)\n",
    "\n",
    "(slope, intercept, rvalue, pvalue, stderr) = linregress(x_values, y_values)\n",
    "regress_values = df[\"Median Household Income\"] * slope + intercept\n",
    "\n",
    "fig, ax = plt.subplots(figsize=(20, 10))\n",
    "ax.scatter(x_values,y_values)\n",
    "for i, txt in enumerate(n):\n",
    "    ax.annotate(txt, (x_values[i], y_values[i]), fontsize=15)\n",
    "\n",
    "plt.plot(x_values, regress_values,\"r-\")\n",
    "plt.annotate(line_eq,(6,10),fontsize=15,color=\"red\")\n",
    "\n",
    "plt.xlabel('Median Household Income')\n",
    "plt.ylabel('Graduated with an Associates Degree')\n",
    "plt.title(\"Lake County: Median Household Income vs Poverty\")\n",
    "\n",
    "print(f\"R squared: {rvalue**2}\")\n",
    "\n",
    "plt.show()"
   ]
  },
  {
   "cell_type": "code",
   "execution_count": null,
   "id": "546d7145",
   "metadata": {},
   "outputs": [],
   "source": [
    "x_values = list(df[\"Median Household Income\"])\n",
    "y_values = list(df['Bachelors Degree(%)'])\n",
    "\n",
    "n = list(df.index)\n",
    "\n",
    "(slope, intercept, rvalue, pvalue, stderr) = linregress(x_values, y_values)\n",
    "regress_values = df[\"Median Household Income\"] * slope + intercept\n",
    "\n",
    "fig, ax = plt.subplots(figsize=(20, 10))\n",
    "ax.scatter(x_values,y_values)\n",
    "for i, txt in enumerate(n):\n",
    "    ax.annotate(txt, (x_values[i], y_values[i]), fontsize=15)\n",
    "\n",
    "plt.plot(x_values, regress_values,\"r-\")\n",
    "plt.annotate(line_eq,(6,10),fontsize=15,color=\"red\")\n",
    "\n",
    "plt.xlabel('Median Household Income')\n",
    "plt.ylabel('Graduated with a Bachelors Degree')\n",
    "plt.title(\"Lake County: Median Household Income vs Poverty\")\n",
    "\n",
    "print(f\"R squared: {rvalue**2}\")\n",
    "\n",
    "plt.show()"
   ]
  },
  {
   "cell_type": "code",
   "execution_count": null,
   "id": "3a76878d",
   "metadata": {},
   "outputs": [],
   "source": [
    "x_values = list(df[\"Median Household Income\"])\n",
    "y_values = list(df['No High School(%)'])\n",
    "\n",
    "n = list(df.index)\n",
    "\n",
    "(slope, intercept, rvalue, pvalue, stderr) = linregress(x_values, y_values)\n",
    "regress_values = df[\"Median Household Income\"] * slope + intercept\n",
    "\n",
    "fig, ax = plt.subplots(figsize=(20, 10))\n",
    "ax.scatter(x_values,y_values)\n",
    "for i, txt in enumerate(n):\n",
    "    ax.annotate(txt, (x_values[i], y_values[i]), fontsize=15)\n",
    "\n",
    "plt.plot(x_values, regress_values,\"r-\")\n",
    "plt.annotate(line_eq,(6,10),fontsize=15,color=\"red\")\n",
    "\n",
    "plt.xlabel('Median Household Income')\n",
    "plt.ylabel('Has not graduated from High School')\n",
    "plt.title(\"Lake County: Median Household Income vs Poverty\")\n",
    "\n",
    "print(f\"R squared: {rvalue**2}\")\n",
    "\n",
    "plt.show()"
   ]
  },
  {
   "cell_type": "markdown",
   "id": "363ef9c0",
   "metadata": {},
   "source": [
    "**Under 18 Births**\n"
   ]
  },
  {
   "cell_type": "code",
   "execution_count": null,
   "id": "8b491f38",
   "metadata": {},
   "outputs": [],
   "source": []
  },
  {
   "cell_type": "code",
   "execution_count": null,
   "id": "3e6c335e",
   "metadata": {},
   "outputs": [],
   "source": [
    "x_values = list(df[\"Teen Birth\"])\n",
    "y_values = list(df['Under 18 years old(%)'])\n",
    "\n",
    "n = list(df.index)\n",
    "\n",
    "(slope, intercept, rvalue, pvalue, stderr) = linregress(x_values, y_values)\n",
    "regress_values = df[\"Median Household Income\"] * slope + intercept\n",
    "\n",
    "fig, ax = plt.subplots(figsize=(20, 10))\n",
    "ax.scatter(x_values,y_values)\n",
    "for i, txt in enumerate(n):\n",
    "    ax.annotate(txt, (x_values[i], y_values[i]), fontsize=15)\n",
    "\n",
    "plt.plot(x_values, regress_values,\"r-\")\n",
    "plt.annotate(line_eq,(6,10),fontsize=15,color=\"red\")\n",
    "\n",
    "plt.xlabel('Median Household Income')\n",
    "plt.ylabel('Has not graduated from High School')\n",
    "plt.title(\"Lake County: Median Household Income vs Poverty\")\n",
    "\n",
    "print(f\"R squared: {rvalue**2}\")\n",
    "\n",
    "plt.show()"
   ]
  },
  {
   "cell_type": "code",
   "execution_count": null,
   "id": "08b9691c",
   "metadata": {},
   "outputs": [],
   "source": []
  }
 ],
 "metadata": {
  "kernelspec": {
   "display_name": "PythonData",
   "language": "python",
   "name": "pythondata"
  },
  "language_info": {
   "codemirror_mode": {
    "name": "ipython",
    "version": 3
   },
   "file_extension": ".py",
   "mimetype": "text/x-python",
   "name": "python",
   "nbconvert_exporter": "python",
   "pygments_lexer": "ipython3",
   "version": "3.7.7"
  }
 },
 "nbformat": 4,
 "nbformat_minor": 5
}
